{
 "cells": [
  {
   "cell_type": "code",
   "execution_count": 41,
   "id": "32baa854",
   "metadata": {},
   "outputs": [],
   "source": [
    "import csv\n",
    "import math\n",
    "from statistics import median\n",
    "from DBconnect import myDB\n",
    "#using Binance\n",
    "from binance import Client, ThreadedWebsocketManager, ThreadedDepthCacheManager\n",
    "import pandas as pd\n",
    "import numpy as np\n",
    "\n",
    "f = open('binance.key', 'r')\n",
    "client = Client(f.readline().strip(), f.readline().strip(), tld='us')\n",
    "\n",
    "mydb = myDB()\n",
    "mydb.load_db('db.key')\n",
    "mydb.dbconnect()"
   ]
  },
  {
   "cell_type": "code",
   "execution_count": null,
   "id": "487db1c7",
   "metadata": {},
   "outputs": [],
   "source": [
    "#Getting All symbols from Binance US\n",
    "#Get 20 symbols per IP to not get blocked\n",
    "raw_symbols = client.get_all_tickers()\n",
    "bi_symbols = []\n",
    "\n",
    "for s in range(len(raw_symbols)):\n",
    "    bi_symbols.append(raw_symbols[s]['symbol'])"
   ]
  },
  {
   "cell_type": "code",
   "execution_count": 8,
   "id": "3a5208e7",
   "metadata": {},
   "outputs": [],
   "source": [
    "for i in range(3):\n",
    "    for w in bi_symbols:\n",
    "        if w.endswith('USD'):\n",
    "            pass\n",
    "        else:\n",
    "            bi_symbols.remove(w)\n",
    "for i in range(3):\n",
    "    for w in bi_symbols:\n",
    "        if w.endswith('BUSD'):\n",
    "            bi_symbols.remove(w)\n",
    "        else:\n",
    "            pass"
   ]
  },
  {
   "cell_type": "code",
   "execution_count": 9,
   "id": "e1a54ac5",
   "metadata": {},
   "outputs": [],
   "source": [
    "hltable=pd.DataFrame()"
   ]
  },
  {
   "cell_type": "code",
   "execution_count": 10,
   "id": "4a18738e",
   "metadata": {},
   "outputs": [],
   "source": [
    "#Get 20 symbols per IP to not get blocked\n",
    "for bs in range(0,15):\n",
    "    klines = client.get_historical_klines(bi_symbols[bs], Client.KLINE_INTERVAL_1WEEK, \"1 DEC, 2020\")\n",
    "    df = pd.DataFrame(klines,columns = ['OpenTime','Open','High','Low','Close','Volume','CloseTime','QAV','Trades','TBAV','TQAV','ignore'])\n",
    "    df = df.iloc[::-1]\n",
    "    if bs == 0:\n",
    "        hltable['time'] = df['OpenTime']\n",
    "    hltable[bi_symbols[bs]+\"-Close\"] = df['Close']\n",
    "    hltable[bi_symbols[bs]+\"-High\"] = df['High']\n",
    "    hltable[bi_symbols[bs]+\"-Low\"] = df['Low']\n",
    "    "
   ]
  },
  {
   "cell_type": "code",
   "execution_count": 11,
   "id": "7f2167a3",
   "metadata": {},
   "outputs": [],
   "source": [
    "hltable.dropna(axis='columns', inplace=True)"
   ]
  },
  {
   "cell_type": "code",
   "execution_count": 12,
   "id": "44753aad",
   "metadata": {},
   "outputs": [],
   "source": [
    "hlCompareTable=pd.DataFrame()\n",
    "hlCompareTable2=pd.DataFrame()"
   ]
  },
  {
   "cell_type": "code",
   "execution_count": 13,
   "id": "45fa1ca1",
   "metadata": {
    "scrolled": true
   },
   "outputs": [],
   "source": [
    "#hlCompare Table saves Area, hlcompareTable2 saves High Price \n",
    "tlen = hltable.shape[0]\n",
    "for col in hltable.columns:\n",
    "    currency = col.split('-')[0]\n",
    "    if col == 'time':\n",
    "        continue\n",
    "    elif currency in hlCompareTable.columns and currency in hlCompareTable2.columns:\n",
    "        continue\n",
    "    else:\n",
    "        valueList = np.zeros(shape=(tlen-1,1))\n",
    "        secondValueList = np.zeros(shape=(tlen-1,1))\n",
    "        for i in range(tlen-1):\n",
    "            try:\n",
    "                c = float(hltable[currency+'-Close'][tlen-2-i])\n",
    "            except:\n",
    "                print(i)\n",
    "            h = float(hltable[currency+'-High'][tlen-1-i])\n",
    "            l = float(hltable[currency+'-Low'][tlen-1-i])\n",
    "\n",
    "            if pd.isna(c) and pd.isna(h) and pd.isna(l):    \n",
    "                break\n",
    "            else:\n",
    "                valueList[i][0] =((h-l)/c*100)\n",
    "                secondValueList[i][0] =((h-c)/c*100)\n",
    "        hlCompareTable[currency] = pd.DataFrame(valueList, columns = [currency])[currency]\n",
    "        hlCompareTable2[currency] = pd.DataFrame(secondValueList, columns = [currency])[currency]\n",
    "    "
   ]
  },
  {
   "cell_type": "code",
   "execution_count": 14,
   "id": "8a8bb9f4",
   "metadata": {},
   "outputs": [],
   "source": [
    "# Get table of runners: calculated base price and runner price\n",
    "# CalcTable saves area difference, CalcTable2 saves high price difference.\n",
    "\n",
    "hlCalcTable=pd.DataFrame()\n",
    "hlCalcTable2=pd.DataFrame()\n",
    "\n",
    "for col in hlCompareTable.columns:\n",
    "    if col == 'BTCUSD':\n",
    "        pass\n",
    "    elif col in hlCalcTable.columns and col in hlCalcTable2.columns:\n",
    "        pass\n",
    "    else:\n",
    "        calcList = np.zeros(shape=(tlen-2,1))\n",
    "        secondCalcList = np.zeros(shape=(tlen-2,1))\n",
    "        for i in range(tlen-2):\n",
    "            baseArea = float(hlCompareTable['BTCUSD'][i])\n",
    "            runnerArea = float(hlCompareTable[col][i+1])\n",
    "\n",
    "            baseHigh = float(hlCompareTable2['BTCUSD'][i])\n",
    "            runnerHigh = float(hlCompareTable2[col][i+1])\n",
    "\n",
    "            calcList[i][0] = baseArea - runnerArea\n",
    "            secondCalcList[i][0] = baseHigh - runnerHigh\n",
    "            \n",
    "        hlCalcTable[col] = pd.DataFrame(calcList, columns = [col])[col]\n",
    "        hlCalcTable2[col] = pd.DataFrame(secondCalcList, columns = [col])[col]\n",
    "    "
   ]
  },
  {
   "cell_type": "code",
   "execution_count": 15,
   "id": "b46f237a",
   "metadata": {},
   "outputs": [],
   "source": [
    "# Get a table of similarly moved runners\n",
    "\n",
    "similarTable=pd.DataFrame()\n",
    "signalCol = []\n",
    "signalArea = []\n",
    "signalHigh = []\n",
    "resultHigh = []\n",
    "signalIndex = []\n",
    "for col in hlCalcTable.columns:\n",
    "\n",
    "    for i in range(1,tlen-2):\n",
    "        if abs(hlCalcTable[col][i]) < 1:\n",
    "            if hlCalcTable2[col][i] < 1:\n",
    "                    signalArea.append(round(hlCompareTable['BTCUSD'][i],2))\n",
    "                    signalHigh.append(round(hlCompareTable2['BTCUSD'][i],2))\n",
    "                    resultHigh.append(round(hlCompareTable2[col][i-1],2))\n",
    "                    signalIndex.append(i)\n",
    "                    signalCol.append(col)\n",
    "try:\n",
    "    similarTable['Signal Col'] = pd.Series(signalCol)\n",
    "    similarTable['Signal Area'] = pd.Series(signalArea)\n",
    "    similarTable['Signal High'] = pd.Series(signalHigh)\n",
    "    similarTable['Result High'] = pd.Series(resultHigh)\n",
    "    similarTable['Signal Index'] = pd.Series(signalIndex)\n",
    "except:\n",
    "        print(\"An exception occurred\")\n",
    "similarTable = similarTable.loc[similarTable['Result High'] > 1]"
   ]
  },
  {
   "cell_type": "code",
   "execution_count": 16,
   "id": "6b9f8e54",
   "metadata": {},
   "outputs": [],
   "source": [
    "#Getting Max signaled currency\n",
    "\n",
    "pivotTable = similarTable.pivot_table(columns=['Signal Col'], aggfunc='size')\n",
    "pivotTable.sort_values(ascending=False, inplace =True)\n",
    "maxSignal = pivotTable.max()\n",
    "\n",
    "maxSeries = pd.DataFrame(pivotTable.where(pivotTable.eq(maxSignal))).stack()\n",
    "maxList = []\n",
    "for i in range(maxSeries.size):\n",
    "    maxList.append(maxSeries.index[i][0])"
   ]
  },
  {
   "cell_type": "code",
   "execution_count": 21,
   "id": "0438459e",
   "metadata": {},
   "outputs": [],
   "source": [
    "# Get most high currency among max signaled currencies\n",
    "maxUnit = ''\n",
    "buySignal = False\n",
    "for m in pivotTable.index:\n",
    "    if pivotTable[m] < 5:\n",
    "        break\n",
    "    indexList = similarTable.where(similarTable['Signal Col'] == m).dropna().index\n",
    "    signalHighList = []\n",
    "    signalAreaList = []\n",
    "    for i in indexList:\n",
    "        signalHighList.append(similarTable.where(similarTable['Signal Col'] == m).dropna()['Signal High'][i])\n",
    "        signalAreaList.append(similarTable.where(similarTable['Signal Col'] == m).dropna()['Signal Area'][i])\n",
    "\n",
    "    signalEvaluateTable = hlCompareTable[['BTCUSD', m]]\n",
    "    signalEvaluateTable['BTCUSD-High'] = hlCompareTable2['BTCUSD']\n",
    "    signalEvaluateTable[m+'-High'] = hlCompareTable2[m]\n",
    "\n",
    "    signalIndexList = []\n",
    "    for i in range(len(signalHighList)):\n",
    "        sIndexList = signalEvaluateTable.loc[(signalEvaluateTable['BTCUSD'] > signalAreaList[i]-0.5) & (signalEvaluateTable['BTCUSD'] < signalAreaList[i]+0.5) & (signalEvaluateTable['BTCUSD-High'] < signalHighList[i]+0.5) & (signalEvaluateTable['BTCUSD-High'] < signalHighList[i]+0.5)].index\n",
    "        for s in sIndexList:\n",
    "            signalIndexList.append(s)\n",
    "\n",
    "    #if signalIndexList contains 1 -> buy signal\n",
    "    # print(set(signalIndexList))\n",
    "    if signalIndexList.count(1) > 0:\n",
    "        buySignal = True\n",
    "        maxUnit = m\n",
    "        break\n",
    "    else:\n",
    "        buySignal = False"
   ]
  },
  {
   "cell_type": "code",
   "execution_count": 23,
   "id": "9de2add5",
   "metadata": {},
   "outputs": [
    {
     "name": "stdout",
     "output_type": "stream",
     "text": [
      "NO SIGNAL\n"
     ]
    }
   ],
   "source": [
    "# Result Median High is expected profit %\n",
    "if buySignal:\n",
    "    sigCount = 0\n",
    "    failcount = 0\n",
    "    sigResultList = []\n",
    "    sigFailList = []\n",
    "    for i in signalIndexList:\n",
    "        try:\n",
    "            sigResultList.append(hlCompareTable2[maxUnit][i])\n",
    "            sigCount+=1\n",
    "        except:\n",
    "            pass\n",
    "\n",
    "    med = median(sigResultList)\n",
    "\n",
    "    for i in signalIndexList:\n",
    "        try:\n",
    "            if hlCompareTable2[maxUnit][i] < round(med,2):\n",
    "                failcount += 1\n",
    "                sigFailList.append(float(hltable[maxUnit+'-Close'][tlen-i+1]) - float(hltable[maxUnit+'-Close'][tlen-i]))\n",
    "        except:\n",
    "            pass\n",
    "\n",
    "    print('Signal Unit: ', maxUnit)        \n",
    "    print('Result median High: ', round(med,2))\n",
    "    print('Fail Median: ', round(median(sigFailList),2))\n",
    "    print('Signal Count : ',len(sigResultList))\n",
    "    print('Fail Count: ', failcount)\n",
    "    \n",
    "    mydb.runQuery(maxUnit, round(med,2))\n",
    "    \n",
    "else:\n",
    "    print('NO SIGNAL')"
   ]
  },
  {
   "cell_type": "code",
   "execution_count": null,
   "id": "931edcb3",
   "metadata": {},
   "outputs": [],
   "source": []
  }
 ],
 "metadata": {
  "kernelspec": {
   "display_name": "Python 3",
   "language": "python",
   "name": "python3"
  },
  "language_info": {
   "codemirror_mode": {
    "name": "ipython",
    "version": 3
   },
   "file_extension": ".py",
   "mimetype": "text/x-python",
   "name": "python",
   "nbconvert_exporter": "python",
   "pygments_lexer": "ipython3",
   "version": "3.9.1"
  }
 },
 "nbformat": 4,
 "nbformat_minor": 5
}
